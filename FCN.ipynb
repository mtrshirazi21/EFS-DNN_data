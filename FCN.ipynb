{
  "cells": [
    {
      "cell_type": "markdown",
      "metadata": {
        "id": "rxfiF_9gZVha"
      },
      "source": [
        "# clone Dataset from github"
      ]
    },
    {
      "cell_type": "code",
      "execution_count": 1,
      "metadata": {
        "colab": {
          "base_uri": "https://localhost:8080/"
        },
        "id": "1G-x43FDYY4y",
        "outputId": "e85a4e64-f633-4d75-86cd-4a0812cb53e1"
      },
      "outputs": [
        {
          "name": "stdout",
          "output_type": "stream",
          "text": [
            "Cloning into 'EFS-DNN_data'...\n",
            "remote: Enumerating objects: 17, done.\u001b[K\n",
            "remote: Counting objects: 100% (17/17), done.\u001b[K\n",
            "remote: Compressing objects: 100% (11/11), done.\u001b[K\n",
            "remote: Total 17 (delta 5), reused 15 (delta 3), pack-reused 0\u001b[K\n",
            "Unpacking objects: 100% (17/17), done.\n"
          ]
        }
      ],
      "source": [
        "! git clone https://github.com/akramtahmasebi/EFS-DNN_data.git"
      ]
    },
    {
      "cell_type": "markdown",
      "metadata": {
        "id": "jmqWpXZuZZmS"
      },
      "source": [
        "# import library & and python pkg"
      ]
    },
    {
      "cell_type": "code",
      "execution_count": 2,
      "metadata": {
        "id": "wr5zJ8ykY0Fr"
      },
      "outputs": [],
      "source": [
        "import numpy as np , pandas as pd \n",
        "import matplotlib.pyplot as plt , seaborn as sns \n",
        "import tensorflow as tf\n",
        "from sklearn.model_selection import train_test_split\n",
        "from sklearn.preprocessing import MinMaxScaler, LabelEncoder\n",
        "from keras.utils import np_utils\n",
        "\n",
        "from keras.models import Sequential\n",
        "from keras.layers import Dense , Dropout\n",
        "from keras.losses import categorical_crossentropy\n",
        "\n",
        "import warnings\n",
        "warnings.filterwarnings(\"ignore\")\n",
        "\n",
        "plt.style.use('fivethirtyeight')\n",
        "%matplotlib inline"
      ]
    },
    {
      "cell_type": "markdown",
      "metadata": {
        "id": "x5vkRcPUZg-K"
      },
      "source": [
        "# preprocess Data "
      ]
    },
    {
      "cell_type": "code",
      "execution_count": 3,
      "metadata": {
        "id": "b7CCi_QQZSLi"
      },
      "outputs": [],
      "source": [
        "manula_args = 2 # if you want categorize between 0 and 1  use int 2 and for categorize with attac_type use int 5\n",
        "\n",
        "df = pd.read_csv('EFS-DNN_data/v2_kdd99_raw.csv')\n",
        "\n",
        "features = df.iloc[:, :-1]\n",
        "target = df.iloc[:, -1]\n",
        "\n",
        "numerical_features = [x for x in features.columns if features[x].dtype == np.int64 or features[x].dtype == np.float64]\n",
        "categorical_features = [x for x in features.columns if features[x].dtype == object]\n",
        "\n",
        "lbe = LabelEncoder()\n",
        "for feat in categorical_features:\n",
        "    df[feat] = lbe.fit_transform(df[feat])\n",
        "\n",
        "mms = MinMaxScaler()\n",
        "df[numerical_features] = mms.fit_transform(df[numerical_features])\n",
        "\n",
        "if manula_args == 2:\n",
        "    mask = target == 'normal'\n",
        "    target[mask] = 0\n",
        "    target[~mask] = 1\n",
        "elif manula_args == 5:\n",
        "    attack_type = pd.read_csv('EFS-DNN_data/attack_type.csv')\n",
        "    attack2type = dict()\n",
        "    for attack, type in attack_type.values:\n",
        "        attack2type[attack] = type\n",
        "    type2idx = {'normal': 0, 'dos': 1, 'probe': 2, 'r2l': 3, 'u2r': 4}\n",
        "    df.iloc[:, -1] = target.apply(lambda x: type2idx[attack2type[x]])\n",
        "\n",
        "df.to_csv('v2_pre.csv', index=False)"
      ]
    },
    {
      "cell_type": "code",
      "execution_count": 5,
      "metadata": {
        "id": "cbP7bAMTadDC"
      },
      "outputs": [],
      "source": [
        "x,y = df.iloc[:, :-1] , df.iloc[:, -1]\n",
        "X_train, X_test, y_train, y_test = train_test_split(x, y, test_size=0.30, random_state=42)\n",
        "\n",
        "y_train = np_utils.to_categorical(y_train)\n",
        "y_test = np_utils.to_categorical(y_test)"
      ]
    },
    {
      "cell_type": "code",
      "execution_count": 6,
      "metadata": {
        "id": "IW97_jKZbBSR"
      },
      "outputs": [],
      "source": [
        "myModel = Sequential()\n",
        "myModel.add(Dense(30,activation='relu',input_shape=(41,)))\n",
        "myModel.add(Dropout(0.1))\n",
        "myModel.add(Dense(20,activation='relu'))\n",
        "myModel.add(Dropout(0.1))\n",
        "myModel.add(Dense(10,activation='relu'))\n",
        "myModel.add(Dropout(0.1))\n",
        "myModel.add(Dense(5,activation='relu'))\n",
        "myModel.add(Dense(2,activation='softmax'))"
      ]
    },
    {
      "cell_type": "code",
      "execution_count": 7,
      "metadata": {
        "colab": {
          "base_uri": "https://localhost:8080/"
        },
        "id": "Scz6zTPejHDw",
        "outputId": "c780ab7d-264c-41f9-84c2-985ab7e09341"
      },
      "outputs": [
        {
          "name": "stdout",
          "output_type": "stream",
          "text": [
            "Model: \"sequential\"\n",
            "_________________________________________________________________\n",
            " Layer (type)                Output Shape              Param #   \n",
            "=================================================================\n",
            " dense (Dense)               (None, 30)                1260      \n",
            "                                                                 \n",
            " dropout (Dropout)           (None, 30)                0         \n",
            "                                                                 \n",
            " dense_1 (Dense)             (None, 20)                620       \n",
            "                                                                 \n",
            " dropout_1 (Dropout)         (None, 20)                0         \n",
            "                                                                 \n",
            " dense_2 (Dense)             (None, 10)                210       \n",
            "                                                                 \n",
            " dropout_2 (Dropout)         (None, 10)                0         \n",
            "                                                                 \n",
            " dense_3 (Dense)             (None, 5)                 55        \n",
            "                                                                 \n",
            " dense_4 (Dense)             (None, 2)                 12        \n",
            "                                                                 \n",
            "=================================================================\n",
            "Total params: 2,157\n",
            "Trainable params: 2,157\n",
            "Non-trainable params: 0\n",
            "_________________________________________________________________\n"
          ]
        }
      ],
      "source": [
        "myModel.summary()"
      ]
    },
    {
      "cell_type": "code",
      "execution_count": 8,
      "metadata": {
        "id": "gDqFXQGucVFS"
      },
      "outputs": [],
      "source": [
        "myModel.compile(\n",
        "    optimizer= tf.keras.optimizers.Adam(learning_rate=.001),\n",
        "    loss=categorical_crossentropy,\n",
        "    metrics=['accuracy']\n",
        ")"
      ]
    },
    {
      "cell_type": "code",
      "execution_count": 9,
      "metadata": {
        "colab": {
          "base_uri": "https://localhost:8080/"
        },
        "id": "dNJEgBDOcZhB",
        "outputId": "0041a1cf-8b76-4aaa-93b8-9e820d757271"
      },
      "outputs": [
        {
          "name": "stdout",
          "output_type": "stream",
          "text": [
            "Epoch 1/50\n",
            "100/100 [==============================] - 5s 13ms/step - loss: 0.5810 - accuracy: 0.6931 - val_loss: 0.2378 - val_accuracy: 0.9254\n",
            "Epoch 2/50\n",
            "100/100 [==============================] - 0s 5ms/step - loss: 0.2587 - accuracy: 0.9042 - val_loss: 0.1254 - val_accuracy: 0.9624\n",
            "Epoch 3/50\n",
            "100/100 [==============================] - 0s 4ms/step - loss: 0.1466 - accuracy: 0.9565 - val_loss: 0.0898 - val_accuracy: 0.9726\n",
            "Epoch 4/50\n",
            "100/100 [==============================] - 0s 4ms/step - loss: 0.1039 - accuracy: 0.9699 - val_loss: 0.0684 - val_accuracy: 0.9789\n",
            "Epoch 5/50\n",
            "100/100 [==============================] - 0s 5ms/step - loss: 0.0823 - accuracy: 0.9764 - val_loss: 0.0565 - val_accuracy: 0.9827\n",
            "Epoch 6/50\n",
            "100/100 [==============================] - 0s 4ms/step - loss: 0.0700 - accuracy: 0.9800 - val_loss: 0.0510 - val_accuracy: 0.9838\n",
            "Epoch 7/50\n",
            "100/100 [==============================] - 0s 4ms/step - loss: 0.0619 - accuracy: 0.9823 - val_loss: 0.0462 - val_accuracy: 0.9859\n",
            "Epoch 8/50\n",
            "100/100 [==============================] - 0s 4ms/step - loss: 0.0572 - accuracy: 0.9838 - val_loss: 0.0427 - val_accuracy: 0.9874\n",
            "Epoch 9/50\n",
            "100/100 [==============================] - 0s 4ms/step - loss: 0.0519 - accuracy: 0.9849 - val_loss: 0.0390 - val_accuracy: 0.9878\n",
            "Epoch 10/50\n",
            "100/100 [==============================] - 0s 5ms/step - loss: 0.0477 - accuracy: 0.9853 - val_loss: 0.0362 - val_accuracy: 0.9883\n",
            "Epoch 11/50\n",
            "100/100 [==============================] - 0s 5ms/step - loss: 0.0445 - accuracy: 0.9862 - val_loss: 0.0346 - val_accuracy: 0.9888\n",
            "Epoch 12/50\n",
            "100/100 [==============================] - 0s 4ms/step - loss: 0.0418 - accuracy: 0.9868 - val_loss: 0.0319 - val_accuracy: 0.9894\n",
            "Epoch 13/50\n",
            "100/100 [==============================] - 0s 4ms/step - loss: 0.0386 - accuracy: 0.9875 - val_loss: 0.0290 - val_accuracy: 0.9900\n",
            "Epoch 14/50\n",
            "100/100 [==============================] - 0s 4ms/step - loss: 0.0369 - accuracy: 0.9881 - val_loss: 0.0264 - val_accuracy: 0.9910\n",
            "Epoch 15/50\n",
            "100/100 [==============================] - 0s 4ms/step - loss: 0.0331 - accuracy: 0.9892 - val_loss: 0.0250 - val_accuracy: 0.9913\n",
            "Epoch 16/50\n",
            "100/100 [==============================] - 0s 4ms/step - loss: 0.0307 - accuracy: 0.9902 - val_loss: 0.0250 - val_accuracy: 0.9919\n",
            "Epoch 17/50\n",
            "100/100 [==============================] - 0s 5ms/step - loss: 0.0290 - accuracy: 0.9905 - val_loss: 0.0211 - val_accuracy: 0.9926\n",
            "Epoch 18/50\n",
            "100/100 [==============================] - 0s 5ms/step - loss: 0.0276 - accuracy: 0.9912 - val_loss: 0.0192 - val_accuracy: 0.9935\n",
            "Epoch 19/50\n",
            "100/100 [==============================] - 0s 4ms/step - loss: 0.0252 - accuracy: 0.9919 - val_loss: 0.0169 - val_accuracy: 0.9945\n",
            "Epoch 20/50\n",
            "100/100 [==============================] - 0s 5ms/step - loss: 0.0231 - accuracy: 0.9928 - val_loss: 0.0147 - val_accuracy: 0.9960\n",
            "Epoch 21/50\n",
            "100/100 [==============================] - 0s 4ms/step - loss: 0.0214 - accuracy: 0.9935 - val_loss: 0.0140 - val_accuracy: 0.9961\n",
            "Epoch 22/50\n",
            "100/100 [==============================] - 0s 5ms/step - loss: 0.0201 - accuracy: 0.9945 - val_loss: 0.0135 - val_accuracy: 0.9957\n",
            "Epoch 23/50\n",
            "100/100 [==============================] - 0s 5ms/step - loss: 0.0192 - accuracy: 0.9946 - val_loss: 0.0125 - val_accuracy: 0.9967\n",
            "Epoch 24/50\n",
            "100/100 [==============================] - 0s 4ms/step - loss: 0.0182 - accuracy: 0.9949 - val_loss: 0.0118 - val_accuracy: 0.9969\n",
            "Epoch 25/50\n",
            "100/100 [==============================] - 0s 4ms/step - loss: 0.0168 - accuracy: 0.9953 - val_loss: 0.0119 - val_accuracy: 0.9970\n",
            "Epoch 26/50\n",
            "100/100 [==============================] - 0s 4ms/step - loss: 0.0171 - accuracy: 0.9952 - val_loss: 0.0118 - val_accuracy: 0.9969\n",
            "Epoch 27/50\n",
            "100/100 [==============================] - 0s 4ms/step - loss: 0.0169 - accuracy: 0.9955 - val_loss: 0.0107 - val_accuracy: 0.9973\n",
            "Epoch 28/50\n",
            "100/100 [==============================] - 0s 5ms/step - loss: 0.0156 - accuracy: 0.9955 - val_loss: 0.0112 - val_accuracy: 0.9968\n",
            "Epoch 29/50\n",
            "100/100 [==============================] - 0s 5ms/step - loss: 0.0157 - accuracy: 0.9953 - val_loss: 0.0101 - val_accuracy: 0.9974\n",
            "Epoch 30/50\n",
            "100/100 [==============================] - 0s 4ms/step - loss: 0.0146 - accuracy: 0.9960 - val_loss: 0.0103 - val_accuracy: 0.9973\n",
            "Epoch 31/50\n",
            "100/100 [==============================] - 0s 4ms/step - loss: 0.0147 - accuracy: 0.9958 - val_loss: 0.0098 - val_accuracy: 0.9974\n",
            "Epoch 32/50\n",
            "100/100 [==============================] - 0s 4ms/step - loss: 0.0144 - accuracy: 0.9959 - val_loss: 0.0097 - val_accuracy: 0.9975\n",
            "Epoch 33/50\n",
            "100/100 [==============================] - 0s 5ms/step - loss: 0.0141 - accuracy: 0.9961 - val_loss: 0.0100 - val_accuracy: 0.9973\n",
            "Epoch 34/50\n",
            "100/100 [==============================] - 0s 4ms/step - loss: 0.0140 - accuracy: 0.9961 - val_loss: 0.0090 - val_accuracy: 0.9977\n",
            "Epoch 35/50\n",
            "100/100 [==============================] - 0s 5ms/step - loss: 0.0128 - accuracy: 0.9965 - val_loss: 0.0095 - val_accuracy: 0.9977\n",
            "Epoch 36/50\n",
            "100/100 [==============================] - 0s 4ms/step - loss: 0.0132 - accuracy: 0.9964 - val_loss: 0.0084 - val_accuracy: 0.9977\n",
            "Epoch 37/50\n",
            "100/100 [==============================] - 0s 4ms/step - loss: 0.0130 - accuracy: 0.9964 - val_loss: 0.0089 - val_accuracy: 0.9978\n",
            "Epoch 38/50\n",
            "100/100 [==============================] - 0s 5ms/step - loss: 0.0135 - accuracy: 0.9961 - val_loss: 0.0085 - val_accuracy: 0.9978\n",
            "Epoch 39/50\n",
            "100/100 [==============================] - 0s 4ms/step - loss: 0.0127 - accuracy: 0.9964 - val_loss: 0.0090 - val_accuracy: 0.9976\n",
            "Epoch 40/50\n",
            "100/100 [==============================] - 0s 5ms/step - loss: 0.0127 - accuracy: 0.9963 - val_loss: 0.0088 - val_accuracy: 0.9976\n",
            "Epoch 41/50\n",
            "100/100 [==============================] - 0s 4ms/step - loss: 0.0122 - accuracy: 0.9966 - val_loss: 0.0086 - val_accuracy: 0.9979\n",
            "Epoch 42/50\n",
            "100/100 [==============================] - 0s 5ms/step - loss: 0.0121 - accuracy: 0.9966 - val_loss: 0.0088 - val_accuracy: 0.9978\n",
            "Epoch 43/50\n",
            "100/100 [==============================] - 0s 4ms/step - loss: 0.0125 - accuracy: 0.9965 - val_loss: 0.0086 - val_accuracy: 0.9977\n",
            "Epoch 44/50\n",
            "100/100 [==============================] - 0s 4ms/step - loss: 0.0121 - accuracy: 0.9967 - val_loss: 0.0088 - val_accuracy: 0.9973\n",
            "Epoch 45/50\n",
            "100/100 [==============================] - 0s 4ms/step - loss: 0.0116 - accuracy: 0.9968 - val_loss: 0.0081 - val_accuracy: 0.9979\n",
            "Epoch 46/50\n",
            "100/100 [==============================] - 0s 5ms/step - loss: 0.0115 - accuracy: 0.9968 - val_loss: 0.0085 - val_accuracy: 0.9978\n",
            "Epoch 47/50\n",
            "100/100 [==============================] - 0s 4ms/step - loss: 0.0115 - accuracy: 0.9966 - val_loss: 0.0089 - val_accuracy: 0.9977\n",
            "Epoch 48/50\n",
            "100/100 [==============================] - 0s 4ms/step - loss: 0.0111 - accuracy: 0.9968 - val_loss: 0.0087 - val_accuracy: 0.9978\n",
            "Epoch 49/50\n",
            "100/100 [==============================] - 0s 5ms/step - loss: 0.0115 - accuracy: 0.9968 - val_loss: 0.0094 - val_accuracy: 0.9972\n",
            "Epoch 50/50\n",
            "100/100 [==============================] - 0s 5ms/step - loss: 0.0105 - accuracy: 0.9969 - val_loss: 0.0082 - val_accuracy: 0.9976\n"
          ]
        }
      ],
      "source": [
        "network_history = myModel.fit(\n",
        "    X_train,y_train,\n",
        "    batch_size=1024,\n",
        "    epochs=50,\n",
        "    shuffle=True,\n",
        "    validation_data=(X_test, y_test)\n",
        ")"
      ]
    },
    {
      "cell_type": "code",
      "execution_count": 10,
      "metadata": {
        "colab": {
          "base_uri": "https://localhost:8080/",
          "height": 971
        },
        "id": "Dt2NfGj9rNhP",
        "outputId": "be3f3965-ff92-4f64-f7cd-46996523b757"
      },
      "outputs": [
        {
          "data": {
            "image/png": "[encoded data removed]",
            "text/plain": [
              "<Figure size 864x432 with 1 Axes>"
            ]
          },
          "metadata": {
            "needs_background": "light"
          },
          "output_type": "display_data"
        },
        {
          "data": {
            "image/png": "[encoded data removed]",
            "text/plain": [
              "<Figure size 864x504 with 1 Axes>"
            ]
          },
          "metadata": {
            "needs_background": "light"
          },
          "output_type": "display_data"
        }
      ],
      "source": [
        "plt.figure(figsize=(12,6))\n",
        "plt.plot(network_history.history['val_accuracy'])\n",
        "plt.plot(network_history.history['accuracy'],'--r')\n",
        "plt.legend(['validation_accuracy', 'train_accuracy'])\n",
        "plt.title('Accuracy')\n",
        "plt.tight_layout()\n",
        "plt.xlabel('Epochs')\n",
        "plt.ylabel('Accuracy')\n",
        "plt.show()\n",
        "\n",
        "\n",
        "\n",
        "plt.figure(figsize=(12,7))\n",
        "plt.plot(network_history.history['val_loss'])\n",
        "plt.plot(network_history.history['loss'],'--r')\n",
        "plt.legend(['validation_loss', 'train_loss'])\n",
        "plt.title('loss')\n",
        "plt.tight_layout()\n",
        "plt.xlabel('Epochs')\n",
        "plt.ylabel('loss')\n",
        "plt.show()"
      ]
    }
  ],
  "metadata": {
    "accelerator": "GPU",
    "colab": {
      "collapsed_sections": [],
      "name": "FCN.ipynb",
      "provenance": []
    },
    "kernelspec": {
      "display_name": "Python 3",
      "name": "python3"
    },
    "language_info": {
      "name": "python"
    }
  },
  "nbformat": 4,
  "nbformat_minor": 0
}
